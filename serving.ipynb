{
 "cells": [
  {
   "cell_type": "markdown",
   "id": "afee72e0",
   "metadata": {},
   "source": [
    "# TFLite API 서버 배포"
   ]
  },
  {
   "cell_type": "markdown",
   "id": "23b29846",
   "metadata": {},
   "source": [
    "### 1단계 - 모델을 .tflite 형식으로 변환"
   ]
  },
  {
   "cell_type": "code",
   "execution_count": null,
   "id": "9722c1ea",
   "metadata": {},
   "outputs": [],
   "source": [
    "import tensorflow as tf\n",
    "\n",
    "# 기존 학습된 모델 로드\n",
    "model = tf.keras.models.load_model('your_model.h5')  # 또는 'export/1'\n",
    "\n",
    "# TFLite Converter 사용\n",
    "converter = tf.lite.TFLiteConverter.from_keras_model(model)\n",
    "tflite_model = converter.convert()\n",
    "\n",
    "# 저장\n",
    "with open('model.tflite', 'wb') as f:\n",
    "    f.write(tflite_model)"
   ]
  },
  {
   "cell_type": "markdown",
   "id": "f743a6d9",
   "metadata": {},
   "source": [
    "### 2단계 - FastAPI로 TFLite API 서버 구성"
   ]
  },
  {
   "cell_type": "code",
   "execution_count": null,
   "id": "23007615",
   "metadata": {},
   "outputs": [],
   "source": [
    "# save as tflite_api_server.py\n",
    "from fastapi import FastAPI, UploadFile, File\n",
    "from fastapi.responses import JSONResponse\n",
    "import numpy as np\n",
    "import tensorflow as tf\n",
    "import cv2\n",
    "import io\n",
    "\n",
    "app = FastAPI()\n",
    "\n",
    "# TFLite Interpreter 로딩\n",
    "interpreter = tf.lite.Interpreter(model_path=\"model.tflite\")\n",
    "interpreter.allocate_tensors()\n",
    "\n",
    "# 입력/출력 세부 정보\n",
    "input_details = interpreter.get_input_details()\n",
    "output_details = interpreter.get_output_details()\n",
    "\n",
    "def preprocess_image(image_bytes):\n",
    "    img_array = np.frombuffer(image_bytes, np.uint8)\n",
    "    img = cv2.imdecode(img_array, cv2.IMREAD_COLOR)\n",
    "    img = cv2.cvtColor(img, cv2.COLOR_BGR2RGB)\n",
    "    img = cv2.resize(img, (224, 224))\n",
    "    img = img / 255.0\n",
    "    img = np.expand_dims(img, axis=0).astype(np.float32)\n",
    "    return img\n",
    "\n",
    "@app.post(\"/predict\")\n",
    "async def predict(file: UploadFile = File(...)):\n",
    "    contents = await file.read()\n",
    "    img = preprocess_image(contents)\n",
    "\n",
    "    interpreter.set_tensor(input_details[0]['index'], img)\n",
    "    interpreter.invoke()\n",
    "    output_data = interpreter.get_tensor(output_details[0]['index'])\n",
    "    pred_class = int(np.argmax(output_data))\n",
    "\n",
    "    return JSONResponse({\"prediction\": pred_class, \"scores\": output_data.tolist()})"
   ]
  }
 ],
 "metadata": {
  "kernelspec": {
   "display_name": "Python 3",
   "language": "python",
   "name": "python3"
  },
  "language_info": {
   "name": "python",
   "version": "3.9.6"
  }
 },
 "nbformat": 4,
 "nbformat_minor": 5
}
